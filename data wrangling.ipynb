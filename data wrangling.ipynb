{
 "cells": [
  {
   "cell_type": "code",
   "execution_count": 1,
   "metadata": {},
   "outputs": [],
   "source": [
    "import numpy as np\n",
    "import pandas as pd\n",
    "import json\n",
    "import matplotlib.pyplot as plt\n",
    "%matplotlib inline"
   ]
  },
  {
   "cell_type": "code",
   "execution_count": 2,
   "metadata": {},
   "outputs": [
    {
     "name": "stdout",
     "output_type": "stream",
     "text": [
      "last updated: Wed Mar 06 2019 10:31:14 CET\n",
      "CPython 3.6.5\n",
      "IPython 6.3.1\n",
      "\n",
      "numpy 1.14.3\n",
      "pandas 0.22.0\n",
      "matplotlib 2.2.2\n",
      "\n",
      "compiler   : GCC 4.2.1 Compatible Apple LLVM 9.1.0 (clang-902.0.39.1)\n",
      "system     : Darwin\n",
      "release    : 18.5.0\n",
      "machine    : x86_64\n",
      "processor  : i386\n",
      "CPU cores  : 4\n",
      "interpreter: 64bit\n"
     ]
    }
   ],
   "source": [
    "%load_ext watermark\n",
    "%watermark -u -n -t -z\n",
    "%watermark -v -m -p numpy,pandas,matplotlib"
   ]
  },
  {
   "cell_type": "code",
   "execution_count": 3,
   "metadata": {},
   "outputs": [],
   "source": [
    "with open('stores.json', 'r') as r:\n",
    "    k = json.load(r)\n",
    "df = pd.DataFrame(k['body']['items'])"
   ]
  },
  {
   "cell_type": "code",
   "execution_count": 4,
   "metadata": {
    "scrolled": true
   },
   "outputs": [
    {
     "data": {
      "text/html": [
       "<div>\n",
       "<style scoped>\n",
       "    .dataframe tbody tr th:only-of-type {\n",
       "        vertical-align: middle;\n",
       "    }\n",
       "\n",
       "    .dataframe tbody tr th {\n",
       "        vertical-align: top;\n",
       "    }\n",
       "\n",
       "    .dataframe thead th {\n",
       "        text-align: right;\n",
       "    }\n",
       "</style>\n",
       "<table border=\"1\" class=\"dataframe\">\n",
       "  <thead>\n",
       "    <tr style=\"text-align: right;\">\n",
       "      <th></th>\n",
       "      <th>adongCd</th>\n",
       "      <th>adongNm</th>\n",
       "      <th>bizesId</th>\n",
       "      <th>bizesNm</th>\n",
       "      <th>bldMngNo</th>\n",
       "      <th>bldMnno</th>\n",
       "      <th>bldNm</th>\n",
       "      <th>bldSlno</th>\n",
       "      <th>brchNm</th>\n",
       "      <th>ctprvnCd</th>\n",
       "      <th>...</th>\n",
       "      <th>lon</th>\n",
       "      <th>newZipcd</th>\n",
       "      <th>oldZipcd</th>\n",
       "      <th>plotSctCd</th>\n",
       "      <th>plotSctNm</th>\n",
       "      <th>rdnm</th>\n",
       "      <th>rdnmAdr</th>\n",
       "      <th>rdnmCd</th>\n",
       "      <th>signguCd</th>\n",
       "      <th>signguNm</th>\n",
       "    </tr>\n",
       "  </thead>\n",
       "  <tbody>\n",
       "    <tr>\n",
       "      <th>0</th>\n",
       "      <td>2771031000</td>\n",
       "      <td>가창면</td>\n",
       "      <td>10027626</td>\n",
       "      <td>장모님치킨가창점</td>\n",
       "      <td>2771031024101200004036858</td>\n",
       "      <td>6</td>\n",
       "      <td></td>\n",
       "      <td></td>\n",
       "      <td>가창점</td>\n",
       "      <td>27</td>\n",
       "      <td>...</td>\n",
       "      <td>128.644459</td>\n",
       "      <td>42938</td>\n",
       "      <td>711861</td>\n",
       "      <td>1</td>\n",
       "      <td>대지</td>\n",
       "      <td>대구광역시 달성군 가창면 가창동로</td>\n",
       "      <td>대구광역시 달성군 가창면 가창동로 6</td>\n",
       "      <td>277103148001</td>\n",
       "      <td>27710</td>\n",
       "      <td>달성군</td>\n",
       "    </tr>\n",
       "    <tr>\n",
       "      <th>1</th>\n",
       "      <td>2729062500</td>\n",
       "      <td>상인2동</td>\n",
       "      <td>10048463</td>\n",
       "      <td>정통숯불바베큐치킨상인점</td>\n",
       "      <td>2729011500114280014013938</td>\n",
       "      <td>46</td>\n",
       "      <td></td>\n",
       "      <td></td>\n",
       "      <td>상인점</td>\n",
       "      <td>27</td>\n",
       "      <td>...</td>\n",
       "      <td>128.536144</td>\n",
       "      <td>42791</td>\n",
       "      <td>704370</td>\n",
       "      <td>1</td>\n",
       "      <td>대지</td>\n",
       "      <td>대구광역시 달서구 상원로</td>\n",
       "      <td>대구광역시 달서구 상원로 46</td>\n",
       "      <td>272903147008</td>\n",
       "      <td>27290</td>\n",
       "      <td>달서구</td>\n",
       "    </tr>\n",
       "    <tr>\n",
       "      <th>2</th>\n",
       "      <td>4125056500</td>\n",
       "      <td>불현동</td>\n",
       "      <td>10098244</td>\n",
       "      <td>짱구피자치킨</td>\n",
       "      <td>4125010300102680011008557</td>\n",
       "      <td>30</td>\n",
       "      <td></td>\n",
       "      <td></td>\n",
       "      <td></td>\n",
       "      <td>41</td>\n",
       "      <td>...</td>\n",
       "      <td>127.065903</td>\n",
       "      <td>11320</td>\n",
       "      <td>483030</td>\n",
       "      <td>1</td>\n",
       "      <td>대지</td>\n",
       "      <td>경기도 동두천시 못골로</td>\n",
       "      <td>경기도 동두천시 못골로 30</td>\n",
       "      <td>412503189006</td>\n",
       "      <td>41250</td>\n",
       "      <td>동두천시</td>\n",
       "    </tr>\n",
       "  </tbody>\n",
       "</table>\n",
       "<p>3 rows × 39 columns</p>\n",
       "</div>"
      ],
      "text/plain": [
       "      adongCd adongNm   bizesId       bizesNm                   bldMngNo  \\\n",
       "0  2771031000     가창면  10027626      장모님치킨가창점  2771031024101200004036858   \n",
       "1  2729062500    상인2동  10048463  정통숯불바베큐치킨상인점  2729011500114280014013938   \n",
       "2  4125056500     불현동  10098244        짱구피자치킨  4125010300102680011008557   \n",
       "\n",
       "   bldMnno bldNm bldSlno brchNm ctprvnCd   ...            lon newZipcd  \\\n",
       "0        6                  가창점       27   ...     128.644459    42938   \n",
       "1       46                  상인점       27   ...     128.536144    42791   \n",
       "2       30                            41   ...     127.065903    11320   \n",
       "\n",
       "  oldZipcd plotSctCd plotSctNm                rdnm               rdnmAdr  \\\n",
       "0   711861         1        대지  대구광역시 달성군 가창면 가창동로  대구광역시 달성군 가창면 가창동로 6   \n",
       "1   704370         1        대지       대구광역시 달서구 상원로      대구광역시 달서구 상원로 46   \n",
       "2   483030         1        대지        경기도 동두천시 못골로       경기도 동두천시 못골로 30   \n",
       "\n",
       "         rdnmCd signguCd signguNm  \n",
       "0  277103148001    27710      달성군  \n",
       "1  272903147008    27290      달서구  \n",
       "2  412503189006    41250     동두천시  \n",
       "\n",
       "[3 rows x 39 columns]"
      ]
     },
     "execution_count": 4,
     "metadata": {},
     "output_type": "execute_result"
    }
   ],
   "source": [
    "df.head(3)"
   ]
  },
  {
   "cell_type": "code",
   "execution_count": 5,
   "metadata": {
    "scrolled": true
   },
   "outputs": [
    {
     "data": {
      "text/plain": [
       "adongCd                      4518051000\n",
       "adongNm                             수성동\n",
       "bizesId                        11707011\n",
       "bizesNm                      BHC치킨정읍수성점\n",
       "bldMngNo      4518010100109180004025584\n",
       "bldMnno                              26\n",
       "bldNm                             제일아파트\n",
       "bldSlno                                \n",
       "brchNm                            정읍수성점\n",
       "ctprvnCd                             45\n",
       "ctprvnNm                           전라북도\n",
       "dongNo                                 \n",
       "flrNo                                 1\n",
       "hoNo                                   \n",
       "indsLclsCd                            Q\n",
       "indsLclsNm                           음식\n",
       "indsMclsCd                          Q05\n",
       "indsMclsNm                       닭/오리요리\n",
       "indsSclsCd                       Q05A08\n",
       "indsSclsNm                    후라이드/양념치킨\n",
       "ksicCd                           I56193\n",
       "ksicNm                           치킨 전문점\n",
       "lat                             35.5833\n",
       "ldongCd                      4518010100\n",
       "ldongNm                             수성동\n",
       "lnoAdr               전라북도 정읍시 수성동 918-4\n",
       "lnoCd               4518010100209180004\n",
       "lnoMnno                             918\n",
       "lnoSlno                               4\n",
       "lon                             126.855\n",
       "newZipcd                          56175\n",
       "oldZipcd                         580724\n",
       "plotSctCd                             1\n",
       "plotSctNm                            대지\n",
       "rdnm                      전라북도 정읍시 수성3로\n",
       "rdnmAdr                전라북도 정읍시 수성3로 26\n",
       "rdnmCd                     451803270025\n",
       "signguCd                          45180\n",
       "signguNm                            정읍시\n",
       "Name: 150, dtype: object"
      ]
     },
     "execution_count": 5,
     "metadata": {},
     "output_type": "execute_result"
    }
   ],
   "source": [
    "df.iloc[150]"
   ]
  },
  {
   "cell_type": "code",
   "execution_count": 6,
   "metadata": {},
   "outputs": [],
   "source": [
    "# Let's convert empty value to np.nan first\n",
    "df.replace('', np.nan, inplace=True)"
   ]
  },
  {
   "cell_type": "code",
   "execution_count": 7,
   "metadata": {
    "scrolled": true
   },
   "outputs": [
    {
     "data": {
      "text/plain": [
       "Index(['adongCd', 'adongNm', 'bizesId', 'bizesNm', 'bldMngNo', 'bldMnno',\n",
       "       'bldNm', 'bldSlno', 'brchNm', 'ctprvnCd', 'ctprvnNm', 'dongNo', 'flrNo',\n",
       "       'hoNo', 'indsLclsCd', 'indsLclsNm', 'indsMclsCd', 'indsMclsNm',\n",
       "       'indsSclsCd', 'indsSclsNm', 'ksicCd', 'ksicNm', 'lat', 'ldongCd',\n",
       "       'ldongNm', 'lnoAdr', 'lnoCd', 'lnoMnno', 'lnoSlno', 'lon', 'newZipcd',\n",
       "       'oldZipcd', 'plotSctCd', 'plotSctNm', 'rdnm', 'rdnmAdr', 'rdnmCd',\n",
       "       'signguCd', 'signguNm'],\n",
       "      dtype='object')"
      ]
     },
     "execution_count": 7,
     "metadata": {},
     "output_type": "execute_result"
    }
   ],
   "source": [
    "df.columns # what we need is bizesNm, ctprvnNm, signguNm, adongNm, rdnmAdr, lon and lat"
   ]
  },
  {
   "cell_type": "code",
   "execution_count": 8,
   "metadata": {},
   "outputs": [
    {
     "data": {
      "text/plain": [
       "bizesNm       0\n",
       "ctprvnNm    193\n",
       "signguNm    193\n",
       "adongNm     193\n",
       "rdnmAdr       0\n",
       "lon           0\n",
       "lat           0\n",
       "dtype: int64"
      ]
     },
     "execution_count": 8,
     "metadata": {},
     "output_type": "execute_result"
    }
   ],
   "source": [
    "df.isnull().sum()[['bizesNm', 'ctprvnNm', 'signguNm', 'adongNm', 'rdnmAdr', 'lon', 'lat']]"
   ]
  },
  {
   "cell_type": "markdown",
   "metadata": {},
   "source": [
    "This is the `rdnmAdr` composition:\n",
    "\n",
    "`ctprvnNm` + `signguNm` + `adongNm` + ...\n",
    "\n",
    "So we have to extract missing values from `rdnmAdr`"
   ]
  },
  {
   "cell_type": "code",
   "execution_count": 9,
   "metadata": {
    "scrolled": true
   },
   "outputs": [
    {
     "name": "stdout",
     "output_type": "stream",
     "text": [
      "[5 4 6]\n"
     ]
    },
    {
     "data": {
      "image/png": "[encoded data removed]",
      "text/plain": [
       "<Figure size 432x288 with 1 Axes>"
      ]
     },
     "metadata": {},
     "output_type": "display_data"
    }
   ],
   "source": [
    "print(df['rdnmAdr'].apply(str.split).apply(len).unique())\n",
    "df['rdnmAdr'].apply(str.split).apply(len).plot(kind='hist', bins=5)\n",
    "plt.show()"
   ]
  },
  {
   "cell_type": "code",
   "execution_count": 10,
   "metadata": {
    "scrolled": true
   },
   "outputs": [
    {
     "name": "stdout",
     "output_type": "stream",
     "text": [
      "1    대구광역시 달서구 상원로 46\n",
      "2     경기도 동두천시 못골로 30\n",
      "6      강원도 원주시 금불3길 5\n",
      "Name: rdnmAdr, dtype: object\n",
      "len: 23858\n",
      "------\n",
      "0      대구광역시 달성군 가창면 가창동로 6\n",
      "3    경기도 김포시 고촌읍 장차로13번길 18\n",
      "4      강원도 원주시 문막읍 원문로 1570\n",
      "Name: rdnmAdr, dtype: object\n",
      "len: 14670\n",
      "------\n",
      "223    경상남도 창원시 의창구 동읍 용정길46번길 49-1\n",
      "318       충청북도 청주시 청원구 오창읍 연구단지로 21\n",
      "332        충청남도 천안시 동남구 목천읍 충절로 890\n",
      "Name: rdnmAdr, dtype: object\n",
      "len: 649\n",
      "------\n"
     ]
    }
   ],
   "source": [
    "print(df[df['rdnmAdr'].apply(str.split).apply(len) == 4].head(3)['rdnmAdr'])\n",
    "print(\"len:\", len(df[df['rdnmAdr'].apply(str.split).apply(len) == 4]['rdnmAdr']))\n",
    "print(\"------\")\n",
    "print(df[df['rdnmAdr'].apply(str.split).apply(len) == 5].head(3)['rdnmAdr'])\n",
    "print(\"len:\", len(df[df['rdnmAdr'].apply(str.split).apply(len) == 5]['rdnmAdr']))\n",
    "print(\"------\")\n",
    "print(df[df['rdnmAdr'].apply(str.split).apply(len) == 6].head(3)['rdnmAdr'])\n",
    "print(\"len:\", len(df[df['rdnmAdr'].apply(str.split).apply(len) == 6]['rdnmAdr']))\n",
    "print(\"------\")\n"
   ]
  },
  {
   "cell_type": "code",
   "execution_count": 11,
   "metadata": {},
   "outputs": [],
   "source": [
    "df_Xna = df.dropna(subset=['signguNm', 'ctprvnNm', 'adongNm'])"
   ]
  },
  {
   "cell_type": "code",
   "execution_count": 12,
   "metadata": {},
   "outputs": [
    {
     "name": "stdout",
     "output_type": "stream",
     "text": [
      "ctprvnNm:  [1]\n",
      "signguNm:  [1 2]\n",
      "adongNm:  [1]\n"
     ]
    }
   ],
   "source": [
    "print('ctprvnNm: ', df_Xna['ctprvnNm'].str.split().apply(len).unique())\n",
    "print('signguNm: ', df_Xna['signguNm'].str.split().apply(len).unique())\n",
    "print('adongNm: ', df_Xna['adongNm'].str.split().apply(len).unique())"
   ]
  },
  {
   "cell_type": "code",
   "execution_count": 13,
   "metadata": {
    "scrolled": true
   },
   "outputs": [
    {
     "data": {
      "text/plain": [
       "0"
      ]
     },
     "execution_count": 13,
     "metadata": {},
     "output_type": "execute_result"
    }
   ],
   "source": [
    "df.isnull().sum()['rdnmAdr']"
   ]
  },
  {
   "cell_type": "code",
   "execution_count": 23,
   "metadata": {},
   "outputs": [
    {
     "data": {
      "text/html": [
       "<div>\n",
       "<style scoped>\n",
       "    .dataframe tbody tr th:only-of-type {\n",
       "        vertical-align: middle;\n",
       "    }\n",
       "\n",
       "    .dataframe tbody tr th {\n",
       "        vertical-align: top;\n",
       "    }\n",
       "\n",
       "    .dataframe thead th {\n",
       "        text-align: right;\n",
       "    }\n",
       "</style>\n",
       "<table border=\"1\" class=\"dataframe\">\n",
       "  <thead>\n",
       "    <tr style=\"text-align: right;\">\n",
       "      <th></th>\n",
       "      <th>adongCd</th>\n",
       "      <th>adongNm</th>\n",
       "      <th>bizesId</th>\n",
       "      <th>bizesNm</th>\n",
       "      <th>bldMngNo</th>\n",
       "      <th>bldMnno</th>\n",
       "      <th>bldNm</th>\n",
       "      <th>bldSlno</th>\n",
       "      <th>brchNm</th>\n",
       "      <th>ctprvnCd</th>\n",
       "      <th>...</th>\n",
       "      <th>lon</th>\n",
       "      <th>newZipcd</th>\n",
       "      <th>oldZipcd</th>\n",
       "      <th>plotSctCd</th>\n",
       "      <th>plotSctNm</th>\n",
       "      <th>rdnm</th>\n",
       "      <th>rdnmAdr</th>\n",
       "      <th>rdnmCd</th>\n",
       "      <th>signguCd</th>\n",
       "      <th>signguNm</th>\n",
       "    </tr>\n",
       "  </thead>\n",
       "  <tbody>\n",
       "    <tr>\n",
       "      <th>22784</th>\n",
       "      <td>4671025000</td>\n",
       "      <td>담양읍</td>\n",
       "      <td>22563547</td>\n",
       "      <td>치킨런</td>\n",
       "      <td>4671025025101830004010477</td>\n",
       "      <td>191</td>\n",
       "      <td>백동주공아파트</td>\n",
       "      <td>NaN</td>\n",
       "      <td>NaN</td>\n",
       "      <td>46</td>\n",
       "      <td>...</td>\n",
       "      <td>126.987104</td>\n",
       "      <td>57346</td>\n",
       "      <td>517806</td>\n",
       "      <td>1</td>\n",
       "      <td>대지</td>\n",
       "      <td>전라남도 담양군 담양읍</td>\n",
       "      <td>전라남도 담양군 담양읍 191</td>\n",
       "      <td>467104658139</td>\n",
       "      <td>46710</td>\n",
       "      <td>담양군</td>\n",
       "    </tr>\n",
       "  </tbody>\n",
       "</table>\n",
       "<p>1 rows × 39 columns</p>\n",
       "</div>"
      ],
      "text/plain": [
       "          adongCd adongNm   bizesId bizesNm                   bldMngNo  \\\n",
       "22784  4671025000     담양읍  22563547     치킨런  4671025025101830004010477   \n",
       "\n",
       "       bldMnno    bldNm  bldSlno brchNm ctprvnCd   ...            lon  \\\n",
       "22784      191  백동주공아파트      NaN    NaN       46   ...     126.987104   \n",
       "\n",
       "      newZipcd oldZipcd plotSctCd plotSctNm          rdnm           rdnmAdr  \\\n",
       "22784    57346   517806         1        대지  전라남도 담양군 담양읍  전라남도 담양군 담양읍 191   \n",
       "\n",
       "             rdnmCd signguCd signguNm  \n",
       "22784  467104658139    46710      담양군  \n",
       "\n",
       "[1 rows x 39 columns]"
      ]
     },
     "execution_count": 23,
     "metadata": {},
     "output_type": "execute_result"
    }
   ],
   "source": [
    "df_Xna[df_Xna['rdnmAdr'].str.split().apply(lambda x: x[-3:]).apply(lambda x: not x[0].endswith(('면', '구', '시', '읍')))]"
   ]
  },
  {
   "cell_type": "markdown",
   "metadata": {},
   "source": [
    "From the result we got above, there should be only 2 variation in `rdnmAdr`. But there are 3. That signifies that the last variation, the one of length 6, originates both from `signguNm` and whatever part comes after the combination of `ctprvnNm`, `signguNm` and `adongNm`. As we can see above, the fact that we replaced all empty value(empty string) with `np.nan` does not affect the original dataframe"
   ]
  },
  {
   "cell_type": "code",
   "execution_count": 58,
   "metadata": {
    "scrolled": false
   },
   "outputs": [
    {
     "name": "stdout",
     "output_type": "stream",
     "text": [
      "0     달성군\n",
      "1     달서구\n",
      "2    동두천시\n",
      "Name: signguNm, dtype: object\n",
      "-------\n",
      "5     고양시 덕양구\n",
      "8     청주시 청원구\n",
      "9    고양시 일산동구\n",
      "Name: signguNm, dtype: object\n"
     ]
    },
    {
     "data": {
      "image/png": "[encoded data removed]",
      "text/plain": [
       "<Figure size 432x288 with 1 Axes>"
      ]
     },
     "metadata": {},
     "output_type": "display_data"
    }
   ],
   "source": [
    "# Further investigation of difference in signguNm\n",
    "print(df_Xna[df_Xna['signguNm'].str.split().apply(len) == 1]['signguNm'].head(3))\n",
    "print('-------')\n",
    "print(df_Xna[df_Xna['signguNm'].str.split().apply(len) == 2]['signguNm'].head(3))\n",
    "df_Xna['signguNm'].str.split().apply(len).plot(kind='hist', bins=3)\n",
    "plt.show()"
   ]
  },
  {
   "cell_type": "code",
   "execution_count": 65,
   "metadata": {},
   "outputs": [
    {
     "data": {
      "text/plain": [
       "bizesNm       0\n",
       "ctprvnNm    193\n",
       "signguNm    193\n",
       "adongNm     193\n",
       "rdnmAdr       0\n",
       "lon           0\n",
       "lat           0\n",
       "dtype: int64"
      ]
     },
     "execution_count": 65,
     "metadata": {},
     "output_type": "execute_result"
    }
   ],
   "source": [
    "df.isnull().sum()[['bizesNm', 'ctprvnNm', 'signguNm', 'adongNm', 'rdnmAdr', 'lon', 'lat']]\n",
    "# We need to deal with np.nan values from ctprvnNm, signguNm and adongNm"
   ]
  },
  {
   "cell_type": "code",
   "execution_count": 74,
   "metadata": {},
   "outputs": [
    {
     "name": "stdout",
     "output_type": "stream",
     "text": [
      "True\n",
      "True\n",
      "True\n"
     ]
    }
   ],
   "source": [
    "ctp = df[df['ctprvnNm'].isnull()].index\n",
    "sig = df[df['signguNm'].isnull()].index\n",
    "adn = df[df['adongNm'].isnull()].index\n",
    "print(set(ctp) == set(sig))\n",
    "print(set(sig) == set(adn))\n",
    "print(set(ctp) == set(adn))\n",
    "# Interestingly, all missing values exist in the same rows..\n",
    "# Seems like somebody was tired of tying the address"
   ]
  },
  {
   "cell_type": "code",
   "execution_count": 102,
   "metadata": {},
   "outputs": [],
   "source": [
    "def extract_from_rdnmAdr(row):\n",
    "    if pd.isnull(row['ctprvnNm']):\n",
    "        rdnm = row['rdnmAdr'].split()\n",
    "        row['ctprvnNm'] = rdnm[0]\n",
    "        if len(rdnm) == 4:\n",
    "            row['signguNm'] = rdnm[1]\n",
    "            row['adongNm'] = rdnm[2]\n",
    "        else:\n",
    "            row['signguNm'] = rdnm[1] + ' ' + rdnm[2]\n",
    "            row['adongNm'] = rdnm[3]\n",
    "    return row"
   ]
  },
  {
   "cell_type": "code",
   "execution_count": 105,
   "metadata": {
    "scrolled": true
   },
   "outputs": [],
   "source": [
    "df1 = df.apply(extract_from_rdnmAdr, axis=1)"
   ]
  },
  {
   "cell_type": "code",
   "execution_count": 108,
   "metadata": {
    "scrolled": true
   },
   "outputs": [
    {
     "data": {
      "text/plain": [
       "ctprvnNm    0\n",
       "signguNm    0\n",
       "adongNm     0\n",
       "dtype: int64"
      ]
     },
     "execution_count": 108,
     "metadata": {},
     "output_type": "execute_result"
    }
   ],
   "source": [
    "df1.isnull().sum()[['ctprvnNm', 'signguNm', 'adongNm']] # seems like it's done. Let's double check"
   ]
  },
  {
   "cell_type": "code",
   "execution_count": 114,
   "metadata": {},
   "outputs": [],
   "source": [
    "check = df1[df1['ctprvnCd'].isnull()][['ctprvnNm', 'signguNm', 'adongNm', 'rdnmAdr']]"
   ]
  },
  {
   "cell_type": "code",
   "execution_count": 115,
   "metadata": {},
   "outputs": [],
   "source": [
    "def check_it(row):\n",
    "    s = '{} {} {}'.format(row['ctprvnNm'], row['signguNm'], row['adongNm'])\n",
    "    return s in row['rdnmAdr']"
   ]
  },
  {
   "cell_type": "code",
   "execution_count": 118,
   "metadata": {},
   "outputs": [
    {
     "data": {
      "text/html": [
       "<div>\n",
       "<style scoped>\n",
       "    .dataframe tbody tr th:only-of-type {\n",
       "        vertical-align: middle;\n",
       "    }\n",
       "\n",
       "    .dataframe tbody tr th {\n",
       "        vertical-align: top;\n",
       "    }\n",
       "\n",
       "    .dataframe thead th {\n",
       "        text-align: right;\n",
       "    }\n",
       "</style>\n",
       "<table border=\"1\" class=\"dataframe\">\n",
       "  <thead>\n",
       "    <tr style=\"text-align: right;\">\n",
       "      <th></th>\n",
       "      <th>ctprvnNm</th>\n",
       "      <th>signguNm</th>\n",
       "      <th>adongNm</th>\n",
       "      <th>rdnmAdr</th>\n",
       "    </tr>\n",
       "  </thead>\n",
       "  <tbody>\n",
       "  </tbody>\n",
       "</table>\n",
       "</div>"
      ],
      "text/plain": [
       "Empty DataFrame\n",
       "Columns: [ctprvnNm, signguNm, adongNm, rdnmAdr]\n",
       "Index: []"
      ]
     },
     "execution_count": 118,
     "metadata": {},
     "output_type": "execute_result"
    }
   ],
   "source": [
    "check[check.apply(check_it, axis=1)==False] ## seems like all NAs from the required data is treated"
   ]
  },
  {
   "cell_type": "code",
   "execution_count": 119,
   "metadata": {},
   "outputs": [],
   "source": [
    "df1.to_csv('stores_NA_treated.csv', index=False)"
   ]
  }
 ],
 "metadata": {
  "kernelspec": {
   "display_name": "Chicken",
   "language": "python",
   "name": "chicken"
  },
  "language_info": {
   "codemirror_mode": {
    "name": "ipython",
    "version": 3
   },
   "file_extension": ".py",
   "mimetype": "text/x-python",
   "name": "python",
   "nbconvert_exporter": "python",
   "pygments_lexer": "ipython3",
   "version": "3.6.5"
  }
 },
 "nbformat": 4,
 "nbformat_minor": 2
}
